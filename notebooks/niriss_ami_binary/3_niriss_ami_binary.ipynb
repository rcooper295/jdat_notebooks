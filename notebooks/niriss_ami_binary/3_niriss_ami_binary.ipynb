{
 "cells": [
  {
   "cell_type": "markdown",
   "metadata": {
    "slideshow": {
     "slide_type": "slide"
    }
   },
   "source": [
    "# NIRISS AMI: Binary fitting of AB Dor using Fouriever"
   ]
  },
  {
   "cell_type": "markdown",
   "metadata": {
    "slideshow": {
     "slide_type": "slide"
    }
   },
   "source": [
    "## Introduction\n",
    "This notebook takes a calibrated OIFITS file (see _Defining Terms_ below) from NIRISS Aperture Masking Interferometry (AMI) data of binary point source AB Dor and calibrator HD 37093. The data were observed during science instrument commissioning on June 5, 2022, calibrated with the [JWST pipeline](https://jwst-pipeline.readthedocs.io/en/latest/index.html), and had interferometric observables extracted using the Image Plane approach to Interferometric Analysis ([ImPlaneIA](http://ascl.net/1808.004)). This notebook estimates the parameters of a best-fit binary model for this data.\n",
    "\n",
    "We use the [fouriever](https://github.com/kammerje/fouriever) analysis package to extract binary point source parameters. It utilizes model-fitting and chi-squared minimization, taking into account correclations between interferometric observables and bandwidth smearing effects at long baselines, to find the most probable location of a stellar companion. "
   ]
  },
  {
   "cell_type": "markdown",
   "metadata": {
    "slideshow": {
     "slide_type": "slide"
    }
   },
   "source": [
    "### Defining terms\n",
    "\n",
    "**Observables** here refers to interferometric observables: quantities that can be measured from an interferogram. We use squared visibilities and closure phases from the fringe amplitudes and fringe phases of the observed scene.\n",
    "\n",
    "**[OIFITS](https://doi.org/10.1051/0004-6361/201526405)** files are the Optical Interferometry standard FITS files used by the community. A science target's observables are **calibrated** by the observables of a PSF calibrator star's image, to remove telescope/instrument effects (as far as possible).\n",
    "\n",
    "**Fouriever** is a toolkit for analyzing non-redundant masking and kernel phase interferometry data. Details of the analysis methods are described in [Kammerer et al. 2019](https://ui.adsabs.harvard.edu/abs/2019MNRAS.486..639K/abstract), [2020](https://ui.adsabs.harvard.edu/abs/2020A%26A...644A.110K/abstract). \n"
   ]
  },
  {
   "cell_type": "markdown",
   "metadata": {
    "slideshow": {
     "slide_type": "skip"
    }
   },
   "source": [
    "***"
   ]
  },
  {
   "cell_type": "markdown",
   "metadata": {
    "slideshow": {
     "slide_type": "slide"
    }
   },
   "source": [
    "## Imports\n",
    "\n",
    "- *numpy* to handle array functions\n",
    "- *zipfile* for accessing zip file\n",
    "- *urllib.request* to access URL\n",
    "- *os* and *pathlib* for path manipulation\n",
    "\n",
    "- *astropy.io fits* for accessing FITS files\n",
    "- *matplotlib.pyplot* for plotting data\n",
    "- *scipy.ndimage* for image handling\n",
    "- *IPython.display* for image display\n",
    "- *fouriever* high-contrast companion detection"
   ]
  },
  {
   "cell_type": "code",
   "execution_count": null,
   "metadata": {
    "slideshow": {
     "slide_type": "fragment"
    }
   },
   "outputs": [],
   "source": [
    "%matplotlib inline\n",
    "\n",
    "import numpy as np\n",
    "import os\n",
    "import zipfile\n",
    "import urllib.request\n",
    "from pathlib import Path\n",
    "\n",
    "from astropy.io import fits\n",
    "import matplotlib.pyplot as plt\n",
    "from scipy import ndimage\n",
    "from IPython.display import Image\n",
    "from fouriever import intercorr, uvfit"
   ]
  },
  {
   "cell_type": "markdown",
   "metadata": {},
   "source": [
    "***"
   ]
  },
  {
   "cell_type": "markdown",
   "metadata": {},
   "source": [
    "\n",
    "\n",
    "The provided data is a NIRISS AMI observation of a binary star: a 4.61 $M_L$ K0V primary (AB Dor A) with a faint companion. On the date these data were taken, we expect to observe the following characteristics of the binary system in filter F480M:  \n",
    "- Magnitude difference: dm = 4.2 mag at 4.8 μm (a flux ratio of 48)\n",
    "- Sub-λ/D separation: sep = 370.98 mas\n",
    "- Position angle: theta = 286.98 degrees (from North)\n",
    "  "
   ]
  },
  {
   "cell_type": "code",
   "execution_count": null,
   "metadata": {},
   "outputs": [],
   "source": [
    "# These are the binary parameters we expect Fouriever to extract\n",
    "\n",
    "sep = 370.98  # binary separation [mas]\n",
    "theta = 286.98  # position angle (pa) [deg]\n",
    "dm = 4.2  # delta magnitude [mag]"
   ]
  },
  {
   "cell_type": "markdown",
   "metadata": {
    "slideshow": {
     "slide_type": "slide"
    }
   },
   "source": [
    "## Loading data\n",
    "Load the input data file. This is the science target's calibrated oifits file, created by running `2_niriss_ami_binary.ipynb`. The zipped file also includes a simulated FITS image with the faint companion artificially brightened so we can examine its position relative to the host star."
   ]
  },
  {
   "cell_type": "code",
   "execution_count": null,
   "metadata": {},
   "outputs": [],
   "source": [
    "# Download the products\n",
    "\n",
    "boxlink = 'https://data.science.stsci.edu/redirect/JWST/jwst-data_analysis_tools/niriss_ami_binary/niriss_ami_binary3.zip'\n",
    "boxfile = Path('./niriss_ami_binary3.zip')\n",
    "\n",
    "# Download zip file\n",
    "if not boxfile.exists():\n",
    "    urllib.request.urlretrieve(boxlink, boxfile)\n",
    "    zf = zipfile.ZipFile(boxfile, 'r')\n",
    "    zf.extractall()"
   ]
  },
  {
   "cell_type": "code",
   "execution_count": null,
   "metadata": {},
   "outputs": [],
   "source": [
    "# The data file is now in the 'niriss_ami_binary3' directory\n",
    "calib_oifits = './niriss_ami_binary3/calib_abdor_f480m_pos1_hd37093.oifits'\n",
    "datadir = os.path.dirname(calib_oifits)\n",
    "print(os.path.abspath(calib_oifits))"
   ]
  },
  {
   "cell_type": "markdown",
   "metadata": {
    "slideshow": {
     "slide_type": "slide"
    }
   },
   "source": [
    "## File Information\n",
    "The science target's calibrated oifits file needs to have interferometric observables corresponding to all possible baselines in the non-redundant mask, and their associated uncertainties. The uncertainty on each observable is taken to be the \"straight\" standard deviation (without consideration for linear dependence within a set of variables).\n",
    "OIFITS files are multi-extension FITS binary tables.\n",
    "\n",
    "The file contains seven extensions. The primary data extension is empty, and the remaining six extensions binary tables contain information about the observations and the interferometric data.\n",
    "* **OI_WAVELENGTH**: Bandpass info (e.g. weighted central wavelength) \n",
    "* **OI_TARGET**: Properties of the target retrieved from SIMBAD, observation date and duration\n",
    "* **OI_ARRAY**: Telescope info (e.g. sub-aperture locations, primary mirror diameter) \n",
    "* **OI_VIS**: Fringe visibility amplitudes and phases (calibrated visibility amplitudes of the target, corresponding to 21 baselines)\n",
    "* **OI_VIS2**: Squared visibility amplitudes and phases (calibrated squared visibility of the target, corresponding to 21 baselines)\n",
    "* **OI_T3**: Triple product amplitudes and phases (calibrated closure phases of the target corresponding to 35 triangles between sub-apertures)"
   ]
  },
  {
   "cell_type": "code",
   "execution_count": null,
   "metadata": {},
   "outputs": [],
   "source": [
    "# Display OIFITS file information\n",
    "fits.info(calib_oifits)"
   ]
  },
  {
   "cell_type": "markdown",
   "metadata": {},
   "source": [
    "The primary header tells us some information about the contents, such as the telescope (JWST), aperture mask design used (g7s6), the name of the target (AB Dor), and the name of the calibrator (HD37093):"
   ]
  },
  {
   "cell_type": "code",
   "execution_count": null,
   "metadata": {},
   "outputs": [],
   "source": [
    "# Display primary header contents\n",
    "fits.getheader(calib_oifits)"
   ]
  },
  {
   "cell_type": "markdown",
   "metadata": {},
   "source": [
    "## Examine the data\n",
    "\n",
    "First, we will plot the interferometric observables we will be fitting with Fouriever. These are the 35 closure phases and 21 squared visibilities of the AB Dor observation, calibrated by our reference star HD 37093. We will plot observables against $B_{max}/\\lambda$, where $B_{max}$ is the baseline between the centers of two sub-apertures (for squared visibility) or the longest of the three baselines between three sub-apertures (for closure phase) and $\\lambda$ is the central wavelength of the filter (4.82 $\\mu$m)"
   ]
  },
  {
   "cell_type": "code",
   "execution_count": null,
   "metadata": {
    "scrolled": true
   },
   "outputs": [],
   "source": [
    "# Your input data is an oifits file\n",
    "with fits.open(calib_oifits) as hdu:\n",
    "    cp_ext = hdu['OI_T3'].data\n",
    "    sqvis_ext = hdu['OI_VIS2'].data\n",
    "    oiarray = hdu['OI_ARRAY'].data\n",
    "    wavel = hdu['OI_WAVELENGTH'].data['EFF_WAVE']\n",
    "    pscale = hdu['OI_ARRAY'].header['PSCALE']\n",
    "    pav3 = hdu[0].header['PA']\n",
    "print('Wavelength: %.2e m' % wavel)\n",
    "print('V3 PA: %.2f degrees' % pav3)\n",
    "cp = cp_ext['T3PHI']\n",
    "cp_err = cp_ext['T3PHIERR']\n",
    "tri_idx = cp_ext['STA_INDEX']\n",
    "\n",
    "sqvis = sqvis_ext['VIS2DATA']\n",
    "sqvis_err = sqvis_ext['VIS2ERR']\n",
    "bl_idx = sqvis_ext['STA_INDEX']\n",
    "\n",
    "hole_ctrs = oiarray['STAXYZ']\n",
    "hole_idx = oiarray['STA_INDEX']"
   ]
  },
  {
   "cell_type": "code",
   "execution_count": null,
   "metadata": {},
   "outputs": [],
   "source": [
    "# Calculate the length of the baseline [m] for each pair\n",
    "baselines = []\n",
    "for bl in bl_idx:\n",
    "    hole1, hole2 = (bl[0] - 1), (bl[1] - 1)\n",
    "    x1, y1 = hole_ctrs[hole1][0], hole_ctrs[hole1][1]\n",
    "    x2, y2 = hole_ctrs[hole2][0], hole_ctrs[hole2][1]\n",
    "    length = np.abs(np.sqrt((x2 - x1)**2. + (y2 - y1)**2.))\n",
    "    baselines.append(length)\n",
    "# Calculate the length of three baselines for each triangle\n",
    "# Select the longest for plotting\n",
    "tri_baselines = []\n",
    "tri_longest = []\n",
    "for tri in tri_idx:\n",
    "    hole1, hole2, hole3 = tri[0] - 1, tri[1] - 1, tri[2] - 1\n",
    "    x1, y1 = hole_ctrs[hole1][0], hole_ctrs[hole1][1]\n",
    "    x2, y2 = hole_ctrs[hole2][0], hole_ctrs[hole2][1]\n",
    "    x3, y3 = hole_ctrs[hole3][0], hole_ctrs[hole3][1]\n",
    "    length12 = np.abs(np.sqrt((x2 - x1)**2. + (y2 - y1)**2.))\n",
    "    length23 = np.abs(np.sqrt((x3 - x2)**2. + (y3 - y2)**2.))\n",
    "    length31 = np.abs(np.sqrt((x1 - x3)**2. + (y1 - y3)**2.))\n",
    "    tri_lengths = [length12, length23, length31]\n",
    "    tri_baselines.append(tri_lengths)\n",
    "    tri_longest.append(np.max(tri_lengths))\n",
    "\n",
    "# Calculate B_max/lambda\n",
    "bmaxlambda_sqvis = baselines / wavel\n",
    "bmaxlambda_cp = tri_longest / wavel\n",
    "\n",
    "# Label baselines and triangles\n",
    "bl_strings = []\n",
    "for idx in bl_idx:\n",
    "    bl_strings.append(str(idx[0])+'_'+str(idx[1]))\n",
    "\n",
    "tri_strings = []\n",
    "for idx in tri_idx:\n",
    "    tri_strings.append(str(idx[0])+'_'+str(idx[1])+'_'+str(idx[2]))"
   ]
  },
  {
   "cell_type": "code",
   "execution_count": null,
   "metadata": {},
   "outputs": [],
   "source": [
    "# Plot closure phases, square visibilities\n",
    "# Label which point corresponds to which hole pair or triple\n",
    "\n",
    "fig, (ax1, ax2) = plt.subplots(1, 2, figsize=(20, 7))\n",
    "ax1.errorbar(bmaxlambda_cp, cp, yerr=cp_err, fmt='go')\n",
    "ax1.set_xlabel(r'$B_{max}/\\lambda$', size=16)\n",
    "ax1.set_ylabel('Closure phase [deg]', size=14)\n",
    "ax1.set_title('Calibrated Closure Phase', size=14)\n",
    "for ii, tri in enumerate(tri_strings):\n",
    "    ax1.annotate(tri,\n",
    "                 (bmaxlambda_cp[ii], cp[ii]),\n",
    "                 xytext=(bmaxlambda_cp[ii]+10000, cp[ii]))\n",
    "\n",
    "ax2.errorbar(bmaxlambda_sqvis, sqvis, yerr=sqvis_err, fmt='go')\n",
    "ax2.set_title('Calibrated Squared Visibility', size=16)\n",
    "ax2.set_xlabel(r'$B_{max}/\\lambda$', size=14)\n",
    "ax2.set_ylabel('Squared visibility amplitude', size=14)\n",
    "for ii, bl in enumerate(bl_strings):\n",
    "    ax2.annotate(bl,\n",
    "                 (bmaxlambda_sqvis[ii],\n",
    "                  sqvis[ii]),\n",
    "                 xytext=(bmaxlambda_sqvis[ii]+10000, sqvis[ii]))"
   ]
  },
  {
   "cell_type": "markdown",
   "metadata": {},
   "source": [
    "The above plots show the calibrated closure phases (left) and the calibrated squared visibilities (right). Each quantity is plotted against $B_{max}/\\lambda$, the baseline length divided by the wavelength of the observation. In the case of closure phases, where the triangle is formed by three baselines, the longest one is selected. \n",
    "\n",
    "For a monochromatic observation of a point source, we would expect all 35 closure phases to be zero, and all 21 squared visibilities to be unity. Asymmetries in the target caused by e.g. an unresolved companion cause the closure phases and visibilities corresponding to the baselines between affected sub-apertures to diverge from zero or unity. We can now use the set of calibrated observables to model the most probable location and contrast ratio of the companion. "
   ]
  },
  {
   "cell_type": "markdown",
   "metadata": {},
   "source": [
    "## Perform the binary parameter extraction\n",
    "\n",
    "Fouriever performs a search for faint companions over a coarse grid of starting points for the position of the companion and companion/star flux ratio. A multiparameter fit is performed for each starting position, and the companion position and flux ratio are adjusted, leading to a local $\\chi^2$ minimum. Based on the distance each starting point must travel to reach the local minima, Fouriever creates a finer search grid and repeats the process. This iterative process eventually identifies a global minimum in the  $\\chi^2$ map. Fouriever also accounts for correlations between observables and bandwidth smearing effects.\n",
    "\n",
    "Each point on the grid is fitted with a model of a resolved primary star with a point-source companion. The interferometric observables are estimated using a least-squares minimization between the data and model. The significance ($n\\sigma$) of the detection is capped at $8\\sigma$. "
   ]
  },
  {
   "cell_type": "markdown",
   "metadata": {},
   "source": [
    "### Utilize the Fouriever package"
   ]
  },
  {
   "cell_type": "code",
   "execution_count": null,
   "metadata": {},
   "outputs": [],
   "source": [
    "# Set up parameters for the binary search grid and output files\n",
    "\n",
    "rmin = 10 # inner search angle [mas]\n",
    "rmax = 500 # outer search angle [mas]\n",
    "step = 25 # grid step size [mas]\n",
    "\n",
    "obase1 = 'ami_binary_smear_cov.png'"
   ]
  },
  {
   "cell_type": "code",
   "execution_count": null,
   "metadata": {},
   "outputs": [],
   "source": [
    "# Load data for covariance calculation\n",
    "basename = os.path.basename(calib_oifits)\n",
    "data = intercorr.data(idir=datadir+'/',\n",
    "                      fitsfiles=[basename])\n",
    "# Add observable covariances\n",
    "data.clear_cov()\n",
    "data.add_cpcov(odir=datadir)"
   ]
  },
  {
   "cell_type": "code",
   "execution_count": null,
   "metadata": {},
   "outputs": [],
   "source": [
    "# Load data for fitting\n",
    "data = uvfit.data(idir=datadir,\n",
    "                  fitsfiles=[basename])\n",
    "\n",
    "# Compute chi-squared map.\n",
    "fit = data.chi2map(model='bin', # fit unresolved companion\n",
    "                   cov=True, # this data set has covariance\n",
    "                   sep_range=(rmin, rmax), # use custom separation range\n",
    "                   step_size=step, # use custom step size\n",
    "                   smear=3, # use bandwidth smearing of 3\n",
    "                   ofile=obase1) # save figures"
   ]
  },
  {
   "cell_type": "code",
   "execution_count": null,
   "metadata": {},
   "outputs": [],
   "source": [
    "# Display the chi-squared map\n",
    "\n",
    "Image(obase1[:-4]+'_chi2map.png')"
   ]
  },
  {
   "cell_type": "code",
   "execution_count": null,
   "metadata": {},
   "outputs": [],
   "source": [
    "# Run MCMC around best fit position.\n",
    "fit = data.mcmc(fit=fit, # best fit from gridsearch\n",
    "                temp=None, # use default temperature (reduced chi-squared of best fit)\n",
    "                cov=True, # this data set has covariance\n",
    "                smear=3, # use bandwidth smearing of 3\n",
    "                ofile=obase1, # save figures\n",
    "                sampler='emcee') # sampling algorithm"
   ]
  },
  {
   "cell_type": "code",
   "execution_count": null,
   "metadata": {},
   "outputs": [],
   "source": [
    "# Display MCMC fit results\n",
    "\n",
    "Image(obase1[:-4]+'_mcmc_corner.png')"
   ]
  },
  {
   "cell_type": "markdown",
   "metadata": {},
   "source": [
    "The corner plot shows the 1D histograms and 2D contours of the posterior distributions of each pair of binary parameters."
   ]
  },
  {
   "cell_type": "markdown",
   "metadata": {},
   "source": [
    "Fouriever produces a plot of the closure phases from the best-fit binary model vs those extracted from the data, and the residual (difference between the data and model, normalized by $\\sigma/\\chi$):"
   ]
  },
  {
   "cell_type": "code",
   "execution_count": null,
   "metadata": {},
   "outputs": [],
   "source": [
    "# Display the closure phase model vs. data plot\n",
    "\n",
    "Image(obase1[:-4]+'_cp_bin.png')"
   ]
  },
  {
   "cell_type": "code",
   "execution_count": null,
   "metadata": {},
   "outputs": [],
   "source": [
    "# Compute chi-squared map after subtracting best fit companion.\n",
    "obase2 = 'ami_binary_smear_cov_sub.png'\n",
    "\n",
    "fit_sub = data.chi2map_sub(fit_sub=fit, # best fit from MCMC\n",
    "                           model='bin', # fit unresolved companion\n",
    "                           cov=True, # this data set has covariance\n",
    "                           sep_range=(rmin, rmax), # use custom separation range\n",
    "                           step_size=step, # use custom step size\n",
    "                           smear=3, # use bandwidth smearing of 3\n",
    "                           ofile=obase2) # save figures"
   ]
  },
  {
   "cell_type": "code",
   "execution_count": null,
   "metadata": {},
   "outputs": [],
   "source": [
    "# Display chi-squared map after subtracting the best-fit companion\n",
    "\n",
    "Image(obase2[:-4]+'_chi2map.png')"
   ]
  },
  {
   "cell_type": "markdown",
   "metadata": {},
   "source": [
    "This \"detection\" after the companion is subtracted has a low $N_{\\sigma}$ and the symmetry in the map suggests Fourier aliasing at that location, so we do not believe there is a second companion detected here."
   ]
  },
  {
   "cell_type": "markdown",
   "metadata": {},
   "source": [
    "### Convert RA, Dec, flux ratio to separation, PA, magnitude difference"
   ]
  },
  {
   "cell_type": "markdown",
   "metadata": {},
   "source": [
    "Fouriever provides the best-fit offset in right ascension and declination \\[mas\\], and the flux ratio of companion to primary. These are stored in the fit dictionary produced by Fouriever. We will convert these to position angle, separation, and contrast in magnitudes to compare with our expected values from above:"
   ]
  },
  {
   "cell_type": "code",
   "execution_count": null,
   "metadata": {},
   "outputs": [],
   "source": [
    "def mag_diff(flux_ratio):\n",
    "    # for flux ratio f_a/f_b, calculate magnitude difference m_a - m_b\n",
    "    return -2.5 * np.log10(flux_ratio)\n",
    "\n",
    "\n",
    "def convert_params(x, y, f, ex, ey, ef, sigma=1):\n",
    "    \"\"\" \n",
    "    'convert' binary params from ra, dec, flux ratio to sep,\n",
    "    pa, magnitude difference with appropriate errors.\n",
    "    Multiply errorbars by some sigma factor.\n",
    "    \"\"\"\n",
    "    sep = np.sqrt(x**2 + y**2)\n",
    "    pa = 360 + np.rad2deg(np.arctan2(x, y))\n",
    "    dm = mag_diff(f)\n",
    "    sep_unc = np.sqrt((x/sep*ex)**2+(y/sep*ey)**2) * sigma\n",
    "    pa_unc = np.rad2deg(np.sqrt((y/sep**2*ex)**2+(-x/sep**2*ey)**2)) * sigma\n",
    "    dm_upper = mag_diff(f + ef*sigma)\n",
    "    dm_lower = mag_diff(f - ef*sigma)\n",
    "    return sep, pa, dm, sep_unc, pa_unc, dm_upper, dm_lower"
   ]
  },
  {
   "cell_type": "code",
   "execution_count": null,
   "metadata": {},
   "outputs": [],
   "source": [
    "# Get the best-fit parameters and uncertainties\n",
    "x, ex = fit[\"p\"][1], fit[\"dp\"][1]\n",
    "y, ey = fit[\"p\"][2], fit[\"dp\"][2]\n",
    "f, ef = fit[\"p\"][0], fit[\"dp\"][0]\n",
    "\n",
    "sep_fit, pa_fit, dm_fit, sep_unc, pa_unc, dm_upper, dm_lower = convert_params(x, y, f, ex, ey, ef)\n",
    "dm_unc = np.mean([dm-dm_upper, dm_lower-dm]) # symmetrical uncertainties for printing"
   ]
  },
  {
   "cell_type": "code",
   "execution_count": null,
   "metadata": {},
   "outputs": [],
   "source": [
    "print('             Expected      Model')\n",
    "print('Sep [mas]:   %.3f      %.3f +/- %.2f' % (sep, sep_fit, sep_unc))\n",
    "print('Theta [deg]: %.3f      %.3f +/- %.2f' % (theta, pa_fit, pa_unc))\n",
    "print('dm [mag]:    %.3f        %.3f +/- %.2f' % (dm, dm_fit, dm_unc))"
   ]
  },
  {
   "cell_type": "markdown",
   "metadata": {},
   "source": [
    "We notice that there is a significant difference between the expected and retrieved binary parameters, most notably the separation. Since the expected parameters were derived from astrometric measurements of AB Dor, the most recent of which was in 2007 (HIP2), there were large uncertainties on these values. We think it is probable that the observed position is the real position of the companion.\n"
   ]
  },
  {
   "cell_type": "markdown",
   "metadata": {},
   "source": [
    "### Calculate the contrast limits"
   ]
  },
  {
   "cell_type": "markdown",
   "metadata": {},
   "source": [
    "Next, we will use Fouriever to find the detection limit at different angular separations. To do this, Fouriever subtracts the best-fit companion and then injects an additional companion at each grid position with different flux ratios and estimates the number of sigma for a theoretical detection at that point. It interpolates the flux ratio values at 3$\\sigma$ for all points in the grid to produce a 3$\\sigma$ detection map of the contrast (flux) ratio. \n",
    "\n",
    "It also uses the Absil method, which differs slightly from the injection method in that it assumes that the uniform disk is the true model when evaluating the probability of a binary existing at a given grid position, while the injection method assumes the binary is the true model (see [Absil et al. 2011](https://ui.adsabs.harvard.edu/abs/2011A%26A...535A..68A/abstract), [Gallenne et al. 2015](https://ui.adsabs.harvard.edu/abs/2015A%26A...579A..68G/abstract) for more details)."
   ]
  },
  {
   "cell_type": "code",
   "execution_count": null,
   "metadata": {},
   "outputs": [],
   "source": [
    "# Estimate detection limits using the injection and Absil methods\n",
    "data.detlim(sigma=3., # confidence level of detection limits\n",
    "            fit_sub=fit, # best fit from MCMC\n",
    "            cov=True, # this data set has covariance\n",
    "            sep_range=(rmin, rmax), # use custom separation range\n",
    "            step_size=step, # use custom step size\n",
    "            smear=3, # use bandwidth smearing of 3\n",
    "            ofile=obase2) # save figures"
   ]
  },
  {
   "cell_type": "code",
   "execution_count": null,
   "metadata": {},
   "outputs": [],
   "source": [
    "# Display the detection limit plot\n",
    "\n",
    "Image(obase2[:-4]+'_detlim.png')"
   ]
  },
  {
   "cell_type": "markdown",
   "metadata": {},
   "source": [
    "The top plots show the detection limit, in terms of contrast ($\\Delta$Mag), at each location in the search grid based on the injection/detection of false companions using two slightly different methods. The lower plot shows an estimate of the same detection limit with respect to the angular separation [mas] from the primary target (azimuthally averaged from the top plots)."
   ]
  },
  {
   "cell_type": "markdown",
   "metadata": {},
   "source": [
    "### Visually compare the position\n",
    "\n",
    "We can now look at a simulated image with the faint companion artificially brightened, and we see that the position of the primary star at the center and its faint companion appear to match the position of the companion detected on the above $\\chi^2$ map output by Fouriever."
   ]
  },
  {
   "cell_type": "code",
   "execution_count": null,
   "metadata": {},
   "outputs": [],
   "source": [
    "bright_im = fits.getdata('./niriss_ami_binary3/jw01093001001_01101_00001_nis_uncal_F480M_NRM_final_seed_image_fakemag_4.8131.fits')\n",
    "# center and trim the image around the bright pixel before rotating\n",
    "bright_idx = np.where(bright_im == np.max(bright_im))\n",
    "left, right = bright_idx[1][0] - 30, bright_idx[1][0] + 30\n",
    "down, up = bright_idx[0][0] - 30, bright_idx[0][0] + 30\n",
    "trimmed = bright_im[down:up, left:right]\n",
    "\n",
    "# rotate the image by pav3 to match orientation\n",
    "rot_im = ndimage.rotate(trimmed, pav3+90, reshape=False)\n",
    "# convert image coordinates from pixels to milliarcsec, centered on target\n",
    "xsize_px, ysize_px = rot_im.shape[0], rot_im.shape[1]\n",
    "xsize_mas, ysize_mas = xsize_px*pscale, ysize_px*pscale\n",
    "bright_loc = np.where(rot_im == np.max(rot_im))\n",
    "brightx_mas, brighty_mas = bright_loc[1][0]*pscale, bright_loc[0][0]*pscale\n",
    "xmin, xmax = 0. - brightx_mas, xsize_mas - brightx_mas\n",
    "ymin, ymax = 0. - brighty_mas, ysize_mas - brighty_mas\n",
    "\n",
    "# Plot the image on the same scale as Fouriever chi-squared maps above\n",
    "fig = plt.figure(figsize=(5, 5))\n",
    "plt.imshow(rot_im, origin='lower', extent=[-xmin, -xmax, ymin, ymax])\n",
    "plt.xlim([500, -500])\n",
    "plt.ylim([-500, 500])\n",
    "plt.title('AB Dor and Companion')\n",
    "plt.xlabel(r'$\\Delta\\alpha$ [mas]')\n",
    "plt.ylabel(r'$\\Delta\\delta$ [mas]')"
   ]
  },
  {
   "cell_type": "markdown",
   "metadata": {},
   "source": [
    "The above plot confirms the position of the faint companion relative to the target, shown here as change in right ascension and declination from the center of the target star."
   ]
  },
  {
   "cell_type": "markdown",
   "metadata": {},
   "source": [
    "## Additional Resources\n",
    "\n",
    "- [JWST NIRISS AMI documentation](https://jwst-docs.stsci.edu/near-infrared-imager-and-slitless-spectrograph/niriss-observing-modes/niriss-aperture-masking-interferometry)\n",
    "- Fouriever development papers:\n",
    "    - [Kammerer et al. 2019](https://ui.adsabs.harvard.edu/abs/2019MNRAS.486..639K/abstract)\n",
    "    - [Kammerer et al. 2020](https://ui.adsabs.harvard.edu/abs/2020A%26A...644A.110K/abstract)\n",
    "    - [Kammerer et al. 2021a](https://ui.adsabs.harvard.edu/abs/2021A%26A...646A..36K/abstract)\n",
    "- [CANDID paper (Galenne et al. 2015)](https://ui.adsabs.harvard.edu/link_gateway/2015A&A...579A..68G/doi:10.1051/0004-6361/201525917)"
   ]
  },
  {
   "cell_type": "markdown",
   "metadata": {
    "slideshow": {
     "slide_type": "slide"
    }
   },
   "source": [
    "## About this notebook\n",
    "**Author:** Rachel Cooper and Anand Sivaramakrishnan's adaptation of example analysis scripts written by Jens Kammerer (STScI) and Anthony Soulain (University of Sydney).\n",
    "**Updated On:** 2022-20-12"
   ]
  },
  {
   "cell_type": "markdown",
   "metadata": {},
   "source": [
    "***"
   ]
  },
  {
   "cell_type": "markdown",
   "metadata": {},
   "source": [
    "[Top of Page](#top)\n",
    "<img style=\"float: right;\" src=\"https://raw.githubusercontent.com/spacetelescope/notebooks/master/assets/stsci_pri_combo_mark_horizonal_white_bkgd.png\" alt=\"Space Telescope Logo\" width=\"200px\"/> "
   ]
  }
 ],
 "metadata": {
  "kernelspec": {
   "display_name": "Python 3 (ipykernel)",
   "language": "python",
   "name": "python3"
  },
  "language_info": {
   "codemirror_mode": {
    "name": "ipython",
    "version": 3
   },
   "file_extension": ".py",
   "mimetype": "text/x-python",
   "name": "python",
   "nbconvert_exporter": "python",
   "pygments_lexer": "ipython3",
   "version": "3.9.12"
  }
 },
 "nbformat": 4,
 "nbformat_minor": 2
}
